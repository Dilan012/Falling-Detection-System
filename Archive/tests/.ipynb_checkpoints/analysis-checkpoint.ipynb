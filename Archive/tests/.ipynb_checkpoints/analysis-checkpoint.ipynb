{
 "cells": [
  {
   "cell_type": "code",
   "execution_count": 13,
   "id": "3e31fec6-c3e8-4d7d-9b77-9d06e31f50d6",
   "metadata": {},
   "outputs": [],
   "source": [
    "import pandas as pd\n",
    "import numpy as np\n",
    "df = pd.read_csv('data10f.csv')\n",
    "\n",
    "# calculate magnitude of acceleration readings\n",
    "df['Acc_Magnitude'] = df.apply(lambda x: np.sqrt(x['accel_x']**2 + x['accel_y']**2 + x['accel_z']**2), axis=1)\n",
    "\n",
    "# calculate magnitude of gyro readings\n",
    "df['Gyro_Magnitude'] = df.apply(lambda x: np.sqrt(x['gyro_x']**2 + x['gyro_y']**2 + x['gyro_z']**2), axis=1)\n",
    "\n",
    "dfm=df.iloc[:, -2:]\n",
    "\n",
    "dfs = []\n",
    "for i in range(0, len(df), 40):\n",
    "    dfs.append(dfm.iloc[i:i+5])\n",
    "\n",
    "# print the extracted dataframes\n",
    "for i, df_5rows in enumerate(dfs):\n",
    "    globals()[f\"df{i+1}\"] = df_5rows\n",
    "    \n",
    "# Calculate the average of each DataFrame\n",
    "avg_list = []\n",
    "for df in dfs:\n",
    "    avg = df.mean()\n",
    "    avg_list.append(avg)\n",
    "\n",
    "# Create a new DataFrame to store the averages\n",
    "avg_df = pd.DataFrame(avg_list)\n",
    "\n",
    "# Calculate the average of each DataFrame\n",
    "avg_list = []\n",
    "for df in dfs:\n",
    "    avg = df.mean()\n",
    "    avg_list.append(avg)\n",
    "\n",
    "# Create a new DataFrame to store the averages\n",
    "avg_df = pd.DataFrame(avg_list)\n",
    "\n",
    "with open('avg_1f.csv', 'a') as f:\n",
    "    avg_df.to_csv(f, header=False, index=False)"
   ]
  },
  {
   "cell_type": "code",
   "execution_count": null,
   "id": "70f9b55c-a26d-446d-8b4d-cb979668d7f1",
   "metadata": {},
   "outputs": [],
   "source": []
  },
  {
   "cell_type": "code",
   "execution_count": 15,
   "id": "c6c7e933-e120-49cd-bc16-61b52bf9bdf6",
   "metadata": {},
   "outputs": [],
   "source": [
    "import pandas as pd\n",
    "import numpy as np\n",
    "dst = pd.read_csv('avg_w1.csv')\n",
    "ddy = pd.read_csv('avg_1f.csv')\n",
    "\n",
    "dst['label']=np.zeros(25)\n",
    "ddy['label']=np.ones(10)\n",
    "\n",
    "dtr = pd.concat([dst, ddy], ignore_index=True)\n",
    "dtr.to_csv('train_test1.csv', index=False)"
   ]
  },
  {
   "cell_type": "code",
   "execution_count": null,
   "id": "883cbf70-4162-4966-96fe-7739b4abd8b2",
   "metadata": {},
   "outputs": [],
   "source": []
  }
 ],
 "metadata": {
  "kernelspec": {
   "display_name": "Python 3 (ipykernel)",
   "language": "python",
   "name": "python3"
  },
  "language_info": {
   "codemirror_mode": {
    "name": "ipython",
    "version": 3
   },
   "file_extension": ".py",
   "mimetype": "text/x-python",
   "name": "python",
   "nbconvert_exporter": "python",
   "pygments_lexer": "ipython3",
   "version": "3.9.13"
  }
 },
 "nbformat": 4,
 "nbformat_minor": 5
}
