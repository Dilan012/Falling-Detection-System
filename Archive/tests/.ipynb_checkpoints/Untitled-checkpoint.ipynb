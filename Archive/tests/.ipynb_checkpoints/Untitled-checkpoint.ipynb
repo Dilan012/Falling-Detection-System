{
 "cells": [
  {
   "cell_type": "code",
   "execution_count": 1,
   "id": "978be94d-dbd6-4ef8-800f-e0706821614c",
   "metadata": {
    "tags": []
   },
   "outputs": [],
   "source": [
    "import multiprocessing\n",
    "import time\n",
    "import serial\n",
    "import csv\n",
    "\n",
    "\n",
    "def datacol(conn):\n",
    "\n",
    "    ser = serial.Serial('COM9', 9600)  # Replace with the correct port name\n",
    "\n",
    "    start_time=time.time()\n",
    "\n",
    "    for i in range(10):\n",
    "        line = ser.readline().decode().strip()\n",
    "        #print(line)\n",
    "        values = line.split(',')\n",
    "        if len(values) != 6:\n",
    "            continue\n",
    "        try:\n",
    "            accel_x = float(values[0])\n",
    "            accel_y = float(values[1])\n",
    "            accel_z = float(values[2])\n",
    "            gyro_x = float(values[3])\n",
    "            gyro_y = float(values[4])\n",
    "            gyro_z = float(values[5])\n",
    "        except ValueError:\n",
    "            continue\n",
    "\n",
    "        row=[accel_x, accel_y, accel_z, gyro_x, gyro_y, gyro_z]\n",
    "\n",
    "        conn.send(row)\n",
    "        print(\"Sent the message: {}\".format(row))\n",
    "        #time.sleep(0.5)\n",
    "\n",
    "    end_time = time.time()\n",
    "    dt=end_time - start_time\n",
    "    print(\"DT:\", dt)\n",
    "        \n",
    "    conn.close()\n",
    "\n",
    "    ser.close()\n",
    "\n",
    "def receiver(conn):\n",
    "    \"\"\"\n",
    "    function to print the messages received from other\n",
    "    end of pipe\n",
    "    \"\"\"\n",
    "    while 1:\n",
    "        rec = conn.recv()\n",
    "        if rec == \"END\":\n",
    "            break\n",
    "        #\n",
    "        print(\"Received the message: {}\".format(rec))\n",
    "        print(type(rec))\n",
    "\n",
    "\n",
    "if __name__ == \"__main__\":\n",
    "\t# messages to be sent\n",
    "\t#msgs = [\"hello\", \"hey\", \"hru?\", \"END\"]\n",
    "\n",
    "\t# creating a pipe\n",
    "\tparent_conn, child_conn = multiprocessing.Pipe()\n",
    "\n",
    "\t# creating new processes\n",
    "\tp1 = multiprocessing.Process(target=datacol, args=(parent_conn,\t))\n",
    "\tp2 = multiprocessing.Process(target=receiver, args=(child_conn,))\n",
    "\n",
    "\t# running processes\n",
    "\tp1.start()\n",
    "\tp2.start()\n",
    "\n",
    "\t# wait until processes finish\n",
    "\tp1.join()\n",
    "\tp2.join()"
   ]
  },
  {
   "cell_type": "code",
   "execution_count": 2,
   "id": "a4d8c7ed-a5fe-4a24-8f1e-e2810c3b3ae3",
   "metadata": {
    "tags": []
   },
   "outputs": [
    {
     "data": {
      "text/plain": [
       "list"
      ]
     },
     "execution_count": 2,
     "metadata": {},
     "output_type": "execute_result"
    }
   ],
   "source": [
    "sd=[]\n",
    "type(sd)"
   ]
  },
  {
   "cell_type": "code",
   "execution_count": null,
   "id": "86077b1b-0c94-48a5-b492-c62338924c07",
   "metadata": {},
   "outputs": [],
   "source": []
  }
 ],
 "metadata": {
  "kernelspec": {
   "display_name": "Python 3 (ipykernel)",
   "language": "python",
   "name": "python3"
  },
  "language_info": {
   "codemirror_mode": {
    "name": "ipython",
    "version": 3
   },
   "file_extension": ".py",
   "mimetype": "text/x-python",
   "name": "python",
   "nbconvert_exporter": "python",
   "pygments_lexer": "ipython3",
   "version": "3.10.1"
  }
 },
 "nbformat": 4,
 "nbformat_minor": 5
}
