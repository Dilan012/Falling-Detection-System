{
 "cells": [
  {
   "cell_type": "code",
   "execution_count": 4,
   "id": "978be94d-dbd6-4ef8-800f-e0706821614c",
   "metadata": {
    "tags": []
   },
   "outputs": [],
   "source": [
    "import multiprocessing\n",
    "import time\n",
    "import serial\n",
    "import csv\n",
    "import numpy as np\n",
    "\n",
    "\n",
    "def datacol(conn):\n",
    "\n",
    "    ser = serial.Serial('COM9', 9600)  # Replace with the correct port name\n",
    "\n",
    "    start_time=time.time()\n",
    "\n",
    "    for i in range(10):\n",
    "        line = ser.readline().decode().strip()\n",
    "        #print(line)\n",
    "        values = line.split(',')\n",
    "        if len(values) != 6:\n",
    "            continue\n",
    "        try:\n",
    "            accel_x = float(values[0])\n",
    "            accel_y = float(values[1])\n",
    "            accel_z = float(values[2])\n",
    "            gyro_x = float(values[3])\n",
    "            gyro_y = float(values[4])\n",
    "            gyro_z = float(values[5])\n",
    "        except ValueError:\n",
    "            continue\n",
    "\n",
    "        row=[accel_x, accel_y, accel_z, gyro_x, gyro_y, gyro_z]\n",
    "\n",
    "        conn.send(row)\n",
    "        print(\"Sent the message: {}\".format(row))\n",
    "        #time.sleep(0.5)\n",
    "\n",
    "    end_time = time.time()\n",
    "    dt=end_time - start_time\n",
    "    print(\"DT:\", dt)\n",
    "        \n",
    "    conn.close()\n",
    "\n",
    "    ser.close()\n",
    "    \n",
    "    \n",
    "    \n",
    "    \n",
    "    \n",
    "    \n",
    "    \n",
    "    \n",
    "    \n",
    "    \n",
    "    \n",
    "    \n",
    "\n",
    "def receiver(conn):\n",
    "    \"\"\"\n",
    "    function to print the messages received from other\n",
    "    end of pipe\n",
    "    \"\"\"\n",
    "    arr=np.array([[]])\n",
    "    \n",
    "    while 1:\n",
    "        rec = conn.recv()\n",
    "        if rec == \"END\":\n",
    "            break\n",
    "        #\n",
    "        print(\"Received the message: {}\".format(rec))\n",
    "        print(type(rec))\n",
    "        arr=np.vstack([arr, np.array(rec)])\n",
    "        print(arr)\n",
    "\n",
    "\n",
    "        \n",
    "        \n",
    "        \n",
    "        \n",
    "        \n",
    "        \n",
    "        \n",
    "        \n",
    "        \n",
    "        \n",
    "        \n",
    "#####################################################################################################       \n",
    "if __name__ == \"__main__\":\n",
    "    # messages to be sent\n",
    "    #msgs = [\"hello\", \"hey\", \"hru?\", \"END\"]\n",
    "\n",
    "    # creating a pipe\n",
    "    parent_conn, child_conn = multiprocessing.Pipe()\n",
    "\n",
    "    # creating new processes\n",
    "    p1 = multiprocessing.Process(target=datacol, args=(parent_conn,\t))\n",
    "    p2 = multiprocessing.Process(target=receiver, args=(child_conn,))\n",
    "\n",
    "    # running processes\n",
    "    p1.start()\n",
    "    p2.start()\n",
    "\n",
    "    # wait until processes finish\n",
    "    p1.join()\n",
    "    p2.join()"
   ]
  },
  {
   "cell_type": "code",
   "execution_count": 2,
   "id": "a4d8c7ed-a5fe-4a24-8f1e-e2810c3b3ae3",
   "metadata": {
    "tags": []
   },
   "outputs": [
    {
     "data": {
      "text/plain": [
       "list"
      ]
     },
     "execution_count": 2,
     "metadata": {},
     "output_type": "execute_result"
    }
   ],
   "source": [
    "sd=[]\n",
    "type(sd)"
   ]
  },
  {
   "cell_type": "code",
   "execution_count": 26,
   "id": "86077b1b-0c94-48a5-b492-c62338924c07",
   "metadata": {},
   "outputs": [
    {
     "data": {
      "text/plain": [
       "array([[1, 2, 3],\n",
       "       [4, 5, 6],\n",
       "       [7, 8, 9]])"
      ]
     },
     "execution_count": 26,
     "metadata": {},
     "output_type": "execute_result"
    }
   ],
   "source": [
    "import numpy as np\n",
    "\n",
    "arr = np.array([[1,2,3],[4,5,6]])\n",
    "#nrow=np.array([7,8,9])\n",
    "arr=np.vstack([arr, np.array([7,8,9])])\n",
    "#arr=np.append(arr,[[7,8,9]])\n",
    "arr"
   ]
  },
  {
   "cell_type": "code",
   "execution_count": 28,
   "id": "d74576bc-d530-4a4d-915a-0467fc4ff397",
   "metadata": {
    "tags": []
   },
   "outputs": [
    {
     "name": "stdout",
     "output_type": "stream",
     "text": [
      "[]\n"
     ]
    }
   ],
   "source": [
    "arr = np.empty((0, 6))\n",
    "\n",
    "# print the array\n",
    "print(arr)"
   ]
  },
  {
   "cell_type": "code",
   "execution_count": 29,
   "id": "13477e4c-d870-4ce5-9e8a-2a65f0bc61df",
   "metadata": {
    "tags": []
   },
   "outputs": [],
   "source": [
    "arr=np.vstack([arr, np.array([7,8,9,1,2,3])])"
   ]
  },
  {
   "cell_type": "code",
   "execution_count": 30,
   "id": "9cf21207-da88-4a91-ab08-f457e700febf",
   "metadata": {
    "tags": []
   },
   "outputs": [
    {
     "data": {
      "text/plain": [
       "array([[7., 8., 9., 1., 2., 3.]])"
      ]
     },
     "execution_count": 30,
     "metadata": {},
     "output_type": "execute_result"
    }
   ],
   "source": [
    "arr"
   ]
  },
  {
   "cell_type": "code",
   "execution_count": 41,
   "id": "260244ad-ae67-4d48-80c7-4d67dc99fd93",
   "metadata": {
    "tags": []
   },
   "outputs": [
    {
     "name": "stdout",
     "output_type": "stream",
     "text": [
      "0\n",
      "1\n",
      "2\n",
      "3\n",
      "4\n",
      "5\n",
      "6\n",
      "7\n",
      "8\n",
      "9\n"
     ]
    }
   ],
   "source": [
    "for i in range(10):\n",
    "    print(i)"
   ]
  },
  {
   "cell_type": "code",
   "execution_count": 32,
   "id": "33bb06f0-3732-4658-b6c0-22a7026cff44",
   "metadata": {
    "tags": []
   },
   "outputs": [
    {
     "data": {
      "text/plain": [
       "array([], shape=(0, 6), dtype=float64)"
      ]
     },
     "execution_count": 32,
     "metadata": {},
     "output_type": "execute_result"
    }
   ],
   "source": [
    "arr = np.empty((0, 6))\n",
    "arr = arr[8:, :]\n",
    "arr"
   ]
  },
  {
   "cell_type": "code",
   "execution_count": 33,
   "id": "c8aa643a-9f1d-4aa1-b623-5c1d00ef806e",
   "metadata": {
    "tags": []
   },
   "outputs": [],
   "source": [
    "arr = np.random.rand(15, 6)\n"
   ]
  },
  {
   "cell_type": "code",
   "execution_count": 34,
   "id": "1e8e0f9c-e795-4b0e-a0f2-a66a6c64943c",
   "metadata": {
    "tags": []
   },
   "outputs": [
    {
     "data": {
      "text/plain": [
       "array([[0.26621639, 0.23438992, 0.23590034, 0.99010489, 0.58307059,\n",
       "        0.01597098],\n",
       "       [0.22032089, 0.05964689, 0.81769736, 0.86670051, 0.60333227,\n",
       "        0.58839881],\n",
       "       [0.10497556, 0.85690388, 0.59519345, 0.13498943, 0.39756232,\n",
       "        0.26697664],\n",
       "       [0.36638905, 0.13882981, 0.2891582 , 0.3025807 , 0.73649399,\n",
       "        0.31216652],\n",
       "       [0.16067524, 0.30780466, 0.34401037, 0.72164904, 0.33673015,\n",
       "        0.60599332],\n",
       "       [0.44423146, 0.20799117, 0.28674947, 0.1526426 , 0.22933455,\n",
       "        0.56250981],\n",
       "       [0.21398791, 0.3554156 , 0.14422795, 0.36444818, 0.18811083,\n",
       "        0.60335938],\n",
       "       [0.54882337, 0.59607227, 0.55267355, 0.38393779, 0.90699902,\n",
       "        0.65964253],\n",
       "       [0.53790698, 0.76262732, 0.56688023, 0.95719041, 0.470639  ,\n",
       "        0.46595874],\n",
       "       [0.567721  , 0.40038367, 0.33118562, 0.25662508, 0.1045202 ,\n",
       "        0.17350738],\n",
       "       [0.75137958, 0.16451721, 0.84200578, 0.71419197, 0.64391926,\n",
       "        0.18942887],\n",
       "       [0.66338894, 0.44279095, 0.54667469, 0.41768113, 0.57151496,\n",
       "        0.90152195],\n",
       "       [0.80150856, 0.05184668, 0.01526065, 0.20418476, 0.60330661,\n",
       "        0.78974793],\n",
       "       [0.5334051 , 0.22816826, 0.56012249, 0.31743427, 0.67271252,\n",
       "        0.86145265],\n",
       "       [0.9352543 , 0.80196779, 0.60132321, 0.95762775, 0.53143201,\n",
       "        0.73504116]])"
      ]
     },
     "execution_count": 34,
     "metadata": {},
     "output_type": "execute_result"
    }
   ],
   "source": [
    "arr"
   ]
  },
  {
   "cell_type": "code",
   "execution_count": 35,
   "id": "b0f808ca-f867-44c9-bd53-c6a7f50ef646",
   "metadata": {
    "tags": []
   },
   "outputs": [],
   "source": [
    "        arr = arr[8:, :]"
   ]
  },
  {
   "cell_type": "code",
   "execution_count": 36,
   "id": "08e85119-03aa-40cd-b929-3109d62e9675",
   "metadata": {
    "tags": []
   },
   "outputs": [
    {
     "data": {
      "text/plain": [
       "array([[0.53790698, 0.76262732, 0.56688023, 0.95719041, 0.470639  ,\n",
       "        0.46595874],\n",
       "       [0.567721  , 0.40038367, 0.33118562, 0.25662508, 0.1045202 ,\n",
       "        0.17350738],\n",
       "       [0.75137958, 0.16451721, 0.84200578, 0.71419197, 0.64391926,\n",
       "        0.18942887],\n",
       "       [0.66338894, 0.44279095, 0.54667469, 0.41768113, 0.57151496,\n",
       "        0.90152195],\n",
       "       [0.80150856, 0.05184668, 0.01526065, 0.20418476, 0.60330661,\n",
       "        0.78974793],\n",
       "       [0.5334051 , 0.22816826, 0.56012249, 0.31743427, 0.67271252,\n",
       "        0.86145265],\n",
       "       [0.9352543 , 0.80196779, 0.60132321, 0.95762775, 0.53143201,\n",
       "        0.73504116]])"
      ]
     },
     "execution_count": 36,
     "metadata": {},
     "output_type": "execute_result"
    }
   ],
   "source": [
    "arr"
   ]
  },
  {
   "cell_type": "code",
   "execution_count": 48,
   "id": "4c1ec60a-70b3-4bf2-9ebc-78ba717b91de",
   "metadata": {
    "tags": []
   },
   "outputs": [
    {
     "data": {
      "text/plain": [
       "0    7\n",
       "1    8\n",
       "2    9\n",
       "Name: C, dtype: int64"
      ]
     },
     "execution_count": 48,
     "metadata": {},
     "output_type": "execute_result"
    }
   ],
   "source": [
    "import pandas as pd\n",
    "\n",
    "# Create a DataFrame with three columns\n",
    "df = pd.DataFrame({'A': [1, 2, 3], 'B': [4, 5, 6], 'C': [7, 8, 9]})\n",
    "\n",
    "\n",
    "# Access the first column using .iloc[]\n",
    "df.iloc[:, 2]\n"
   ]
  },
  {
   "cell_type": "code",
   "execution_count": null,
   "id": "2de2fc6f-4f5b-4c16-9bbe-f6512e25b83a",
   "metadata": {},
   "outputs": [],
   "source": []
  }
 ],
 "metadata": {
  "kernelspec": {
   "display_name": "Python 3 (ipykernel)",
   "language": "python",
   "name": "python3"
  },
  "language_info": {
   "codemirror_mode": {
    "name": "ipython",
    "version": 3
   },
   "file_extension": ".py",
   "mimetype": "text/x-python",
   "name": "python",
   "nbconvert_exporter": "python",
   "pygments_lexer": "ipython3",
   "version": "3.10.1"
  }
 },
 "nbformat": 4,
 "nbformat_minor": 5
}
