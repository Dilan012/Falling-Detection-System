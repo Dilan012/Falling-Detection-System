{
 "cells": [
  {
   "cell_type": "markdown",
   "id": "e2e93dc6-cbc6-475d-89f0-11a2c98b1c79",
   "metadata": {},
   "source": [
    "# Data collection"
   ]
  },
  {
   "cell_type": "code",
   "execution_count": 52,
   "id": "291bae28-00be-44cc-9145-129c3865e8f0",
   "metadata": {
    "collapsed": true,
    "jupyter": {
     "outputs_hidden": true
    },
    "tags": []
   },
   "outputs": [
    {
     "name": "stdout",
     "output_type": "stream",
     "text": [
      "3.96,0.17,-6.37,0.00,0.26,-0.10\n",
      "0.40,6.85,-16.32,-0.33,-1.34,0.69\n",
      "3.00,-0.32,-10.04,-4.08,-0.24,-0.78\n",
      "-0.04,3.92,-7.99,1.31,-0.41,-1.39\n",
      "0.53,7.61,-7.97,0.37,2.60,1.48\n",
      "1.60,0.16,-8.95,-0.16,1.14,0.03\n",
      "-3.98,9.38,-10.91,1.36,1.03,-0.30\n",
      "1.82,3.37,-10.41,-0.44,-0.00,0.86\n",
      "2.44,-3.37,-8.51,0.98,0.75,-0.89\n",
      "-4.76,7.08,-13.05,-0.28,-1.01,0.92\n",
      "2.82,-0.32,-10.52,-2.52,-2.16,1.37\n",
      "6.45,4.00,-11.52,1.35,0.65,-2.52\n",
      "1.22,5.31,-12.43,0.05,-0.78,0.84\n",
      "8.11,-0.24,-9.18,1.03,-0.83,-1.17\n",
      "0.50,3.22,-13.01,0.23,-0.59,-0.99\n",
      "1.95,5.99,-11.96,-0.83,0.50,-0.10\n",
      "2.17,-1.72,-6.57,-0.82,0.91,0.48\n",
      "-0.91,15.60,-14.51,3.73,4.19,0.14\n",
      "0.84,3.98,-9.75,-1.49,1.55,1.75\n",
      "5.28,0.08,-12.66,1.67,2.06,-1.43\n",
      "3.56,4.46,-12.37,-0.22,0.62,0.58\n",
      "7.63,0.86,-10.41,0.63,0.02,-2.00\n",
      "-1.65,6.17,-14.36,-0.71,-1.99,1.11\n",
      "5.63,-1.68,-9.35,-1.32,-1.27,0.37\n",
      "-2.42,10.42,-11.18,1.75,2.04,-0.87\n",
      "-1.83,6.55,-9.23,-1.44,0.94,1.27\n",
      "6.21,-1.72,-8.39,0.61,0.69,-1.67\n",
      "-5.15,6.26,-13.98,-0.14,-1.21,0.33\n",
      "7.10,1.95,-9.69,-1.80,1.28,2.62\n",
      "2.12,1.29,-10.14,1.28,1.05,-1.97\n",
      "2.11,4.73,-11.44,-0.33,0.82,1.21\n",
      "5.08,-0.51,-8.61,0.23,0.42,-1.37\n",
      "-10.79,5.47,-8.81,0.53,-0.61,-0.66\n",
      "3.38,4.28,-10.58,-0.81,0.65,1.15\n",
      "1.82,1.71,-4.21,-0.75,0.02,-0.78\n",
      "-0.88,7.93,-13.83,0.55,-0.00,0.80\n",
      "3.44,4.58,-11.20,-0.97,1.80,0.34\n",
      "-0.62,5.64,-7.04,0.41,-0.67,-1.12\n",
      "0.09,6.73,-13.11,1.28,-0.35,0.76\n",
      "0.94,3.77,-7.48,-1.92,0.90,-1.28\n",
      "-4.87,11.90,-12.57,-0.39,-1.08,-1.58\n",
      "2.56,4.26,-4.89,0.11,1.49,1.00\n",
      "-0.74,8.90,-10.31,0.91,-0.12,-0.95\n",
      "0.47,3.62,-11.46,0.69,0.20,1.29\n",
      "4.41,2.02,-9.89,-1.57,0.68,-0.16\n",
      "-3.21,7.18,-8.57,-0.04,-0.56,-1.63\n",
      "-1.53,8.71,-11.02,1.42,0.02,0.99\n",
      "4.16,-5.72,-5.92,-0.94,-0.56,1.90\n",
      "-3.61,9.67,-15.03,0.21,-1.22,0.32\n",
      "2.12,2.57,-7.52,-0.74,0.05,1.59\n",
      "3.66,2.60,-7.98,-0.08,-0.40,-1.84\n",
      "3.51,4.59,-12.19,1.29,0.58,1.21\n",
      "2.92,1.00,-11.67,-0.71,-0.62,0.34\n",
      "0.69,5.98,-13.40,-0.08,-0.05,-0.40\n",
      "9.15,5.50,-4.60,0.05,2.20,1.17\n",
      "2.34,5.25,-8.89,1.17,-0.85,-1.03\n",
      "-1.79,7.86,-12.04,0.64,-0.62,-0.53\n",
      "5.28,-0.21,-5.23,-0.58,0.92,-0.14\n",
      "2.66,7.36,-13.63,0.43,-0.95,0.37\n",
      "3.88,1.35,-7.58,-1.75,-0.29,-0.80\n",
      "-1.74,4.61,-6.16,3.22,0.68,-1.15\n",
      "-0.97,8.34,-10.78,0.32,-0.57,1.74\n",
      "2.95,1.67,-6.84,0.10,0.92,0.25\n",
      "-4.11,7.54,-15.91,-0.47,-1.55,0.78\n",
      "2.97,4.92,-10.01,-2.28,-0.09,0.47\n",
      "2.90,-2.31,-7.90,2.44,-1.10,-2.17\n",
      "0.64,5.81,-11.40,0.55,-0.59,1.09\n",
      "2.81,-0.22,-7.04,0.14,0.77,-0.02\n",
      "2.14,4.34,-13.52,0.23,-0.75,0.65\n",
      "3.55,1.81,-8.63,-0.64,0.10,0.69\n",
      "0.14,9.73,-12.35,0.12,0.47,-4.13\n",
      "-2.44,7.96,-7.36,0.34,1.77,2.09\n",
      "7.35,-1.59,-8.00,-0.15,1.53,0.53\n",
      "1.76,5.40,-12.73,0.88,-0.37,0.28\n",
      "3.28,-3.80,-9.86,-1.04,0.15,0.05\n",
      "-2.60,12.95,-9.53,1.65,-0.52,-3.60\n",
      "0.59,6.16,-8.49,1.04,0.16,1.06\n",
      "3.79,1.42,-10.88,0.52,-0.66,-1.62\n",
      "0.43,3.97,-9.97,0.89,0.95,0.54\n",
      "3.95,-1.26,-10.86,-1.21,0.36,1.49\n",
      "3.38,8.81,-9.94,1.40,0.20,-4.37\n",
      "-1.50,8.18,-10.02,0.89,0.18,1.46\n",
      "7.30,-3.76,-9.62,-0.91,0.15,0.18\n",
      "1.80,4.67,-13.15,0.34,-1.06,0.10\n",
      "3.85,4.63,-9.48,-1.63,-0.01,0.77\n",
      "4.79,1.11,-9.87,2.53,-0.98,-2.86\n",
      "1.09,6.41,-12.66,0.24,-0.75,0.15\n",
      "3.87,1.74,-8.69,-0.36,-0.41,1.43\n",
      "-3.51,11.39,-15.10,-0.20,0.27,-0.64\n",
      "3.02,3.03,-10.53,-2.10,-0.14,0.65\n",
      "6.14,3.69,-10.52,1.76,-0.62,-3.08\n",
      "2.56,5.66,-12.14,1.06,0.30,0.86\n",
      "4.65,-0.57,-9.62,-0.73,-0.12,0.68\n",
      "1.51,5.77,-14.45,-0.33,-1.40,-0.29\n",
      "3.65,-0.97,-7.16,-1.65,-0.28,1.77\n",
      "-1.15,7.35,-11.20,1.34,1.49,-3.56\n",
      "-2.46,4.67,-11.15,1.01,0.32,0.87\n",
      "5.30,3.15,-7.71,-2.22,-0.36,1.81\n",
      "-2.37,15.78,-8.84,1.42,2.14,-2.69\n",
      "-0.18,5.93,-7.20,-0.19,0.09,0.91\n",
      "3.70,-4.21,-9.83,0.38,0.19,0.46\n",
      "-5.80,8.89,-12.24,0.92,1.44,0.01\n",
      "2.27,-0.07,-6.07,-1.31,-0.44,0.67\n",
      "-0.18,8.90,-13.46,0.40,1.40,0.16\n",
      "-2.10,7.19,-10.92,0.11,-0.46,1.21\n",
      "4.19,-1.59,-6.77,-1.70,-1.00,0.40\n",
      "-6.01,19.62,-13.47,-0.54,0.62,-0.12\n",
      "3.02,-8.64,-8.00,-1.06,-0.14,0.75\n",
      "-0.16,6.23,-10.38,0.85,1.05,-2.85\n",
      "-0.24,5.40,-10.98,0.58,0.06,0.48\n",
      "3.34,4.47,-9.11,-2.53,-0.16,1.54\n",
      "5.04,-2.78,-9.41,0.32,-0.11,-0.86\n",
      "1.25,4.83,-13.58,0.35,-1.71,0.15\n",
      "2.14,-3.65,-9.10,0.30,1.19,0.90\n",
      "-0.65,6.30,-14.54,0.06,-0.70,-0.62\n",
      "2.67,3.94,-9.08,-1.92,-0.11,1.16\n",
      "6.76,-5.06,-8.88,-0.44,-0.07,-0.52\n",
      "6.04,5.50,-11.55,-0.70,-0.70,0.36\n",
      "3.59,-5.00,-9.82,2.01,-1.24,-0.92\n",
      "-0.95,9.19,-13.31,0.79,1.09,-0.68\n",
      "3.55,3.46,-7.02,-3.21,0.31,2.27\n",
      "4.36,3.40,-9.19,0.73,0.20,-3.96\n",
      "-0.39,6.75,-10.16,0.78,1.00,1.37\n",
      "3.23,-2.36,-5.70,-1.07,-0.12,1.90\n",
      "-1.99,11.62,-15.00,1.27,1.57,-0.63\n",
      "1.94,-12.64,-5.78,-0.66,0.01,0.72\n",
      "-5.27,7.11,-14.78,-0.04,-0.15,-0.94\n",
      "1.60,5.37,-8.59,-3.13,0.46,1.63\n",
      "6.89,-3.74,-9.59,1.55,-1.64,-1.39\n",
      "1.42,6.62,-10.81,0.15,0.08,-0.35\n",
      "3.04,-0.08,-7.29,-2.40,0.16,1.54\n",
      "4.16,3.91,-9.07,3.13,-0.98,-1.72\n",
      "-0.76,5.47,-12.39,0.50,0.80,-0.65\n",
      "-5.12,6.23,-7.20,-0.28,0.40,-1.36\n",
      "3.35,5.03,-10.10,1.11,1.01,3.18\n",
      "9.01,-4.53,-10.83,1.12,-0.74,-1.54\n",
      "3.16,6.11,-15.56,0.52,-0.48,1.41\n",
      "7.50,-6.89,-8.31,-1.19,-1.41,0.46\n",
      "-1.55,8.52,-13.98,1.09,1.96,-1.45\n",
      "-1.32,5.41,-6.79,-1.24,1.00,3.05\n",
      "7.67,-3.21,-10.55,4.20,-0.47,-2.82\n",
      "0.86,6.33,-11.38,0.83,1.44,0.98\n",
      "5.93,-5.45,-8.14,0.21,-0.65,-0.25\n",
      "5.06,6.35,-13.50,2.32,1.81,-2.67\n",
      "1.66,-6.63,-4.44,-4.37,1.14,4.37\n",
      "4.35,6.01,-12.35,3.36,-0.96,-1.98\n",
      "0.63,4.59,-12.03,0.11,1.46,0.41\n",
      "3.17,1.49,-8.70,-2.14,0.79,0.97\n",
      "6.28,-6.61,-9.63,1.08,-2.43,-1.52\n",
      "2.95,3.44,-13.84,-0.22,-0.36,0.00\n"
     ]
    }
   ],
   "source": [
    "import serial\n",
    "import csv\n",
    "\n",
    "ser = serial.Serial('COM9', 9600)  # Replace with the correct port name\n",
    "\n",
    "with open('rawdata.csv', 'w', newline='') as csvfile:\n",
    "    csvwriter = csv.writer(csvfile)\n",
    "    csvwriter.writerow(['accel_x', 'accel_y', 'accel_z', 'gyro_x', 'gyro_y', 'gyro_z'])\n",
    "    \n",
    "    for i in range(150):\n",
    "        #line = ser.readline().decode().strip()\n",
    "        try:\n",
    "            line = ser.readline().decode().strip()\n",
    "            values = line.split(',')\n",
    "        except:\n",
    "            # ignore the error and continue\n",
    "            continue\n",
    "        print(line)\n",
    "        values = line.split(',')\n",
    "        if len(values) != 6:\n",
    "            continue\n",
    "        try:\n",
    "            accel_x = float(values[0])\n",
    "            accel_y = float(values[1])\n",
    "            accel_z = float(values[2])\n",
    "            gyro_x = float(values[3])\n",
    "            gyro_y = float(values[4])\n",
    "            gyro_z = float(values[5])\n",
    "        except ValueError:\n",
    "            continue\n",
    "        \n",
    "        csvwriter.writerow([accel_x, accel_y, accel_z, gyro_x, gyro_y, gyro_z])\n",
    "        \n",
    "ser.close()"
   ]
  },
  {
   "cell_type": "code",
   "execution_count": 5,
   "id": "03b17293-6074-4173-874a-963c8d487983",
   "metadata": {
    "tags": []
   },
   "outputs": [],
   "source": [
    "ser.close()"
   ]
  },
  {
   "cell_type": "markdown",
   "id": "99bd3ddc-7182-413a-a699-6fb4bc2ed83b",
   "metadata": {
    "tags": []
   },
   "source": [
    "# Preprocessing"
   ]
  },
  {
   "cell_type": "code",
   "execution_count": 63,
   "id": "2374b1b3-8c9e-4056-9043-5d5ebfe98110",
   "metadata": {
    "tags": []
   },
   "outputs": [],
   "source": [
    "import pandas as pd\n",
    "import numpy as np\n",
    "\n",
    "#insert raw data\n",
    "df = pd.read_csv('rawdata.csv')\n",
    "\n",
    "# calculate magnitude of acceleration readings\n",
    "df['Acc_Magnitude'] = df.apply(lambda x: np.sqrt(x[0]**2 + x[1]**2 + x[2]**2), axis=1)\n",
    "\n",
    "# calculate magnitude of gyro readings\n",
    "df['Gyro_Magnitude'] = df.apply(lambda x: np.sqrt(x[3]**2 + x[4]**2 + x[5]**2), axis=1)\n",
    "\n",
    "# extracting the last two columns\n",
    "dfm=df.iloc[:, -2:]\n",
    "\n",
    "# splitting the dataframe to multiple dataframes\n",
    "dfs = []\n",
    "fsize = 15\n",
    "for i in range(0, len(df), fsize):\n",
    "    dfs.append(dfm.iloc[i:i+fsize])\n",
    "\n",
    "# print the extracted dataframes\n",
    "for i, df_5rows in enumerate(dfs):\n",
    "    globals()[f\"df{i+1}\"] = df_5rows\n",
    "    \n",
    "# Calculate the average of each DataFrame\n",
    "avg_list = []\n",
    "for df in dfs:\n",
    "    avg = df.mean()\n",
    "    avg_list.append(avg)\n",
    "\n",
    "# Create a new DataFrame to store the averages\n",
    "avg_df = pd.DataFrame(avg_list)\n",
    "\n",
    "# GET AVG \n",
    "\n",
    "with open('avg_df3.csv', 'a') as f:\n",
    "    avg_df.to_csv(f, header=True, index=False)"
   ]
  },
  {
   "cell_type": "code",
   "execution_count": 68,
   "id": "ca85d92d-51c2-44eb-9dd5-078cf9b21b9d",
   "metadata": {
    "tags": []
   },
   "outputs": [
    {
     "data": {
      "text/plain": [
       "Acc_Magnitude     13.101425\n",
       "Gyro_Magnitude     2.741966\n",
       "dtype: float64"
      ]
     },
     "execution_count": 68,
     "metadata": {},
     "output_type": "execute_result"
    }
   ],
   "source": [
    "type(avg)\n",
    "avg"
   ]
  },
  {
   "cell_type": "code",
   "execution_count": 65,
   "id": "4b1f47db-7556-406e-9ada-3bf28f45224e",
   "metadata": {
    "tags": []
   },
   "outputs": [
    {
     "data": {
      "text/html": [
       "<div>\n",
       "<style scoped>\n",
       "    .dataframe tbody tr th:only-of-type {\n",
       "        vertical-align: middle;\n",
       "    }\n",
       "\n",
       "    .dataframe tbody tr th {\n",
       "        vertical-align: top;\n",
       "    }\n",
       "\n",
       "    .dataframe thead th {\n",
       "        text-align: right;\n",
       "    }\n",
       "</style>\n",
       "<table border=\"1\" class=\"dataframe\">\n",
       "  <thead>\n",
       "    <tr style=\"text-align: right;\">\n",
       "      <th></th>\n",
       "      <th>Acc_Magnitude</th>\n",
       "      <th>Gyro_Magnitude</th>\n",
       "    </tr>\n",
       "  </thead>\n",
       "  <tbody>\n",
       "    <tr>\n",
       "      <th>0</th>\n",
       "      <td>11.981759</td>\n",
       "      <td>1.888485</td>\n",
       "    </tr>\n",
       "    <tr>\n",
       "      <th>1</th>\n",
       "      <td>13.057142</td>\n",
       "      <td>2.336517</td>\n",
       "    </tr>\n",
       "    <tr>\n",
       "      <th>2</th>\n",
       "      <td>11.781431</td>\n",
       "      <td>1.553970</td>\n",
       "    </tr>\n",
       "    <tr>\n",
       "      <th>3</th>\n",
       "      <td>11.954950</td>\n",
       "      <td>1.552885</td>\n",
       "    </tr>\n",
       "    <tr>\n",
       "      <th>4</th>\n",
       "      <td>11.640909</td>\n",
       "      <td>1.904781</td>\n",
       "    </tr>\n",
       "    <tr>\n",
       "      <th>5</th>\n",
       "      <td>12.731665</td>\n",
       "      <td>2.003159</td>\n",
       "    </tr>\n",
       "    <tr>\n",
       "      <th>6</th>\n",
       "      <td>12.492987</td>\n",
       "      <td>1.969181</td>\n",
       "    </tr>\n",
       "    <tr>\n",
       "      <th>7</th>\n",
       "      <td>13.045823</td>\n",
       "      <td>1.612434</td>\n",
       "    </tr>\n",
       "    <tr>\n",
       "      <th>8</th>\n",
       "      <td>11.932348</td>\n",
       "      <td>2.355723</td>\n",
       "    </tr>\n",
       "    <tr>\n",
       "      <th>9</th>\n",
       "      <td>13.101425</td>\n",
       "      <td>2.741966</td>\n",
       "    </tr>\n",
       "  </tbody>\n",
       "</table>\n",
       "</div>"
      ],
      "text/plain": [
       "   Acc_Magnitude  Gyro_Magnitude\n",
       "0      11.981759        1.888485\n",
       "1      13.057142        2.336517\n",
       "2      11.781431        1.553970\n",
       "3      11.954950        1.552885\n",
       "4      11.640909        1.904781\n",
       "5      12.731665        2.003159\n",
       "6      12.492987        1.969181\n",
       "7      13.045823        1.612434\n",
       "8      11.932348        2.355723\n",
       "9      13.101425        2.741966"
      ]
     },
     "execution_count": 65,
     "metadata": {},
     "output_type": "execute_result"
    }
   ],
   "source": [
    "avg_df"
   ]
  },
  {
   "cell_type": "markdown",
   "id": "3bb0d113-b6c7-4f51-a565-6b79a97eeff6",
   "metadata": {
    "tags": []
   },
   "source": [
    "# *KNN*"
   ]
  },
  {
   "cell_type": "markdown",
   "id": "46be6ac6-ce10-4de0-902d-2e87577f982e",
   "metadata": {},
   "source": [
    "## * Labeling data for training"
   ]
  },
  {
   "cell_type": "code",
   "execution_count": 48,
   "id": "ef91fee0-c68b-4d02-aa51-e8eb18cf1c3f",
   "metadata": {
    "tags": []
   },
   "outputs": [],
   "source": [
    "import pandas as pd\n",
    "import numpy as np\n",
    "\n",
    "dst = pd.read_csv('avg_st1.csv')\n",
    "ddy = pd.read_csv('avg_dy2.csv')\n",
    "\n",
    "dst['label']=np.zeros(10)\n",
    "ddy['label']=np.ones(10)\n",
    "\n",
    "dtr = pd.concat([dst, ddy], ignore_index=True)\n",
    "dtr.to_csv('train.csv', index=False)"
   ]
  },
  {
   "cell_type": "markdown",
   "id": "a009c856-8870-4cff-b411-77b16c234b1d",
   "metadata": {
    "tags": []
   },
   "source": [
    "## * Training KNN"
   ]
  },
  {
   "cell_type": "code",
   "execution_count": 49,
   "id": "96d3b21b-8a42-495f-8ff7-ddc694dacf86",
   "metadata": {
    "tags": []
   },
   "outputs": [
    {
     "name": "stdout",
     "output_type": "stream",
     "text": [
      "Accuracy: 1.0\n"
     ]
    }
   ],
   "source": [
    "import pandas as pd\n",
    "from sklearn.model_selection import train_test_split\n",
    "from sklearn.neighbors import KNeighborsClassifier\n",
    "from sklearn.metrics import accuracy_score\n",
    "\n",
    "# Load the dataset\n",
    "data = pd.read_csv('train.csv')\n",
    "\n",
    "# Split the data into training and testing sets\n",
    "X_train, X_test, y_train, y_test = train_test_split(data.iloc[:, :-1], data.iloc[:, -1], test_size=0.2, random_state=42)\n",
    "\n",
    "# Create a KNN classifier with k=5\n",
    "\n",
    "knn = KNeighborsClassifier(n_neighbors=7)\n",
    "\n",
    "# Train the classifier on the training data\n",
    "knn.fit(X_train, y_train)\n",
    "\n",
    "# Use the classifier to predict the labels of the test data\n",
    "y_pred = knn.predict(X_test)\n",
    "\n",
    "# Calculate the accuracy of the classifier\n",
    "accuracy = accuracy_score(y_test, y_pred)\n",
    "\n",
    "print(f\"Accuracy: {accuracy}\")"
   ]
  },
  {
   "cell_type": "code",
   "execution_count": 50,
   "id": "edd28439-298c-4054-83ca-1ce7ccda1eee",
   "metadata": {
    "tags": []
   },
   "outputs": [
    {
     "name": "stdout",
     "output_type": "stream",
     "text": [
      "0     0.0\n",
      "17    1.0\n",
      "15    1.0\n",
      "1     0.0\n",
      "Name: label, dtype: float64\n",
      "[0. 1. 1. 0.]\n"
     ]
    }
   ],
   "source": [
    "print(y_test)\n",
    "print(y_pred)"
   ]
  },
  {
   "cell_type": "markdown",
   "id": "11d0531d-489a-4f94-8e02-24a2b575128f",
   "metadata": {},
   "source": [
    "## * Exporting the model"
   ]
  },
  {
   "cell_type": "code",
   "execution_count": 51,
   "id": "cccac461-d76a-4b70-b8b4-201ca18af629",
   "metadata": {
    "tags": []
   },
   "outputs": [
    {
     "data": {
      "text/plain": [
       "['model.pkl']"
      ]
     },
     "execution_count": 51,
     "metadata": {},
     "output_type": "execute_result"
    }
   ],
   "source": [
    "from joblib import dump, load\n",
    "\n",
    "dump(knn, 'model.pkl')"
   ]
  },
  {
   "cell_type": "markdown",
   "id": "0a827b3e-fb38-476d-9a96-72e758964f9a",
   "metadata": {},
   "source": [
    "# Importing the model and predicting"
   ]
  },
  {
   "cell_type": "code",
   "execution_count": 59,
   "id": "f17d2776-9ffc-425c-baa7-00cd34fdeb7b",
   "metadata": {
    "tags": []
   },
   "outputs": [],
   "source": [
    "import joblib\n",
    "\n",
    "knn_model = joblib.load('model.pkl')\n",
    "\n",
    "# new data for prediction\n",
    "new_data = pd.read_csv('avg_df3.csv')\n",
    "\n",
    "# Make predictions on the new data using the loaded KNN model\n",
    "predictions = knn_model.predict(new_data)"
   ]
  },
  {
   "cell_type": "code",
   "execution_count": 60,
   "id": "ffddf59d-a449-4348-bcbf-3e7406ef90ec",
   "metadata": {
    "tags": []
   },
   "outputs": [
    {
     "data": {
      "text/plain": [
       "array([0., 1., 0., 0., 0., 0., 0., 0., 0., 1.])"
      ]
     },
     "execution_count": 60,
     "metadata": {},
     "output_type": "execute_result"
    }
   ],
   "source": [
    "predictions"
   ]
  },
  {
   "cell_type": "code",
   "execution_count": 10,
   "id": "490955d1-1240-4227-9f13-b56663987c79",
   "metadata": {
    "tags": []
   },
   "outputs": [
    {
     "data": {
      "text/plain": [
       "numpy.ndarray"
      ]
     },
     "execution_count": 10,
     "metadata": {},
     "output_type": "execute_result"
    }
   ],
   "source": [
    "type(predictions)"
   ]
  },
  {
   "cell_type": "code",
   "execution_count": 88,
   "id": "adbfd133-45fa-44f7-88c9-fb12427d1275",
   "metadata": {
    "collapsed": true,
    "jupyter": {
     "outputs_hidden": true
    },
    "tags": []
   },
   "outputs": [
    {
     "data": {
      "text/plain": [
       "'\\n\\nEND\\n\\n\\n'"
      ]
     },
     "execution_count": 88,
     "metadata": {},
     "output_type": "execute_result"
    }
   ],
   "source": [
    "'''\n",
    "\n",
    "END\n",
    "\n",
    "\n",
    "'''"
   ]
  },
  {
   "cell_type": "code",
   "execution_count": null,
   "id": "33f912cb-1959-4caa-a1b9-7bee559341d0",
   "metadata": {
    "tags": []
   },
   "outputs": [],
   "source": [
    "\n",
    "\n",
    "\n",
    "\n",
    "\n",
    "\n",
    "\n",
    "\n",
    "\n",
    "\n",
    "\n"
   ]
  },
  {
   "cell_type": "code",
   "execution_count": 80,
   "id": "d26318fd-4432-4c90-a727-0ab59ab18aa9",
   "metadata": {
    "tags": []
   },
   "outputs": [],
   "source": [
    "av1=pd.DataFrame([avg])"
   ]
  },
  {
   "cell_type": "code",
   "execution_count": 81,
   "id": "a362bab8-3b92-47dd-84f1-d2b755aad721",
   "metadata": {
    "tags": []
   },
   "outputs": [
    {
     "data": {
      "text/html": [
       "<div>\n",
       "<style scoped>\n",
       "    .dataframe tbody tr th:only-of-type {\n",
       "        vertical-align: middle;\n",
       "    }\n",
       "\n",
       "    .dataframe tbody tr th {\n",
       "        vertical-align: top;\n",
       "    }\n",
       "\n",
       "    .dataframe thead th {\n",
       "        text-align: right;\n",
       "    }\n",
       "</style>\n",
       "<table border=\"1\" class=\"dataframe\">\n",
       "  <thead>\n",
       "    <tr style=\"text-align: right;\">\n",
       "      <th></th>\n",
       "      <th>Acc_Magnitude</th>\n",
       "      <th>Gyro_Magnitude</th>\n",
       "    </tr>\n",
       "  </thead>\n",
       "  <tbody>\n",
       "    <tr>\n",
       "      <th>0</th>\n",
       "      <td>13.101425</td>\n",
       "      <td>2.741966</td>\n",
       "    </tr>\n",
       "  </tbody>\n",
       "</table>\n",
       "</div>"
      ],
      "text/plain": [
       "   Acc_Magnitude  Gyro_Magnitude\n",
       "0      13.101425        2.741966"
      ]
     },
     "execution_count": 81,
     "metadata": {},
     "output_type": "execute_result"
    }
   ],
   "source": [
    "av1"
   ]
  },
  {
   "cell_type": "code",
   "execution_count": 83,
   "id": "a5ace9a4-8dbe-4bbb-8c74-7be2e5bb2255",
   "metadata": {
    "tags": []
   },
   "outputs": [
    {
     "data": {
      "text/plain": [
       "array([1.])"
      ]
     },
     "execution_count": 83,
     "metadata": {},
     "output_type": "execute_result"
    }
   ],
   "source": [
    "import joblib\n",
    "\n",
    "knn_model = joblib.load('model.pkl')\n",
    "\n",
    "# new data for prediction\n",
    "new_data = av1\n",
    "\n",
    "# Make predictions on the new data using the loaded KNN model\n",
    "predictions = knn_model.predict(new_data)\n",
    "predictions"
   ]
  },
  {
   "cell_type": "code",
   "execution_count": 84,
   "id": "8369bb2c-59db-4700-91e0-ed1f1cef869e",
   "metadata": {
    "tags": []
   },
   "outputs": [
    {
     "data": {
      "text/plain": [
       "numpy.ndarray"
      ]
     },
     "execution_count": 84,
     "metadata": {},
     "output_type": "execute_result"
    }
   ],
   "source": [
    "type(predictions)"
   ]
  },
  {
   "cell_type": "code",
   "execution_count": 86,
   "id": "50c21935-4f74-4c9a-b5a3-fa5ea2afd1d2",
   "metadata": {
    "tags": []
   },
   "outputs": [
    {
     "data": {
      "text/plain": [
       "1.0"
      ]
     },
     "execution_count": 86,
     "metadata": {},
     "output_type": "execute_result"
    }
   ],
   "source": [
    "predictions[0]"
   ]
  }
 ],
 "metadata": {
  "kernelspec": {
   "display_name": "Python 3 (ipykernel)",
   "language": "python",
   "name": "python3"
  },
  "language_info": {
   "codemirror_mode": {
    "name": "ipython",
    "version": 3
   },
   "file_extension": ".py",
   "mimetype": "text/x-python",
   "name": "python",
   "nbconvert_exporter": "python",
   "pygments_lexer": "ipython3",
   "version": "3.10.1"
  }
 },
 "nbformat": 4,
 "nbformat_minor": 5
}
